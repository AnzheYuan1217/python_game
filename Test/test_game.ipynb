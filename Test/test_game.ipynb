{
 "cells": [
  {
   "cell_type": "markdown",
   "source": [
    "导入设定, 资料库等"
   ],
   "metadata": {
    "collapsed": false
   }
  },
  {
   "cell_type": "code",
   "execution_count": 1,
   "outputs": [],
   "source": [
    "import pygame\n",
    "import cha\n",
    "import test_setting as tst"
   ],
   "metadata": {
    "collapsed": false
   }
  },
  {
   "cell_type": "markdown",
   "source": [
    "# 游戏准备流程 (开始之前)"
   ],
   "metadata": {
    "collapsed": false
   }
  },
  {
   "cell_type": "markdown",
   "source": [
    "### 创建角色:"
   ],
   "metadata": {
    "collapsed": false
   }
  },
  {
   "cell_type": "code",
   "execution_count": 8,
   "outputs": [],
   "source": [
    "player = cha.Characters\n",
    "player.name = input(\"Please enter your username: \")"
   ],
   "metadata": {
    "collapsed": false
   }
  },
  {
   "cell_type": "markdown",
   "source": [
    "# 基础游戏流程计划:"
   ],
   "metadata": {
    "collapsed": false
   }
  },
  {
   "cell_type": "code",
   "execution_count": 9,
   "outputs": [
    {
     "name": "stdout",
     "output_type": "stream",
     "text": [
      "Game Start.\n",
      "Welcome, Bulbasaur\n"
     ]
    }
   ],
   "source": [
    "print(\"Game Start.\")\n",
    "print(f\"Welcome, {player.name}\")"
   ],
   "metadata": {
    "collapsed": false
   }
  },
  {
   "cell_type": "code",
   "execution_count": null,
   "outputs": [],
   "source": [
    "print('You wake up with a splitting headache and darkness all around you.')\n",
    "# click\n",
    "print('\"Ah, Where am i...\"')\n",
    "# click\n",
    "print('滴答, 滴答.')\n",
    "# click\n",
    "print('墙上的钟缓慢地走着, 二月的寒冷')\n",
    "\n",
    "\n"
   ],
   "metadata": {
    "collapsed": false
   }
  }
 ],
 "metadata": {
  "kernelspec": {
   "display_name": "Python 3",
   "language": "python",
   "name": "python3"
  },
  "language_info": {
   "codemirror_mode": {
    "name": "ipython",
    "version": 2
   },
   "file_extension": ".py",
   "mimetype": "text/x-python",
   "name": "python",
   "nbconvert_exporter": "python",
   "pygments_lexer": "ipython2",
   "version": "2.7.6"
  }
 },
 "nbformat": 4,
 "nbformat_minor": 0
}
